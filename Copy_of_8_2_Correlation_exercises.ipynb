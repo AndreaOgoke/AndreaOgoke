{
  "nbformat": 4,
  "nbformat_minor": 0,
  "metadata": {
    "kernelspec": {
      "display_name": "Python 3",
      "language": "python",
      "name": "python3"
    },
    "language_info": {
      "codemirror_mode": {
        "name": "ipython",
        "version": 3
      },
      "file_extension": ".py",
      "mimetype": "text/x-python",
      "name": "python",
      "nbconvert_exporter": "python",
      "pygments_lexer": "ipython3",
      "version": "3.8.5"
    },
    "colab": {
      "provenance": [],
      "include_colab_link": true
    }
  },
  "cells": [
    {
      "cell_type": "markdown",
      "metadata": {
        "id": "view-in-github",
        "colab_type": "text"
      },
      "source": [
        "<a href=\"https://colab.research.google.com/github/AndreaOgoke/AndreaOgoke/blob/main/Copy_of_8_2_Correlation_exercises.ipynb\" target=\"_parent\"><img src=\"https://colab.research.google.com/assets/colab-badge.svg\" alt=\"Open In Colab\"/></a>"
      ]
    },
    {
      "cell_type": "markdown",
      "metadata": {
        "id": "7raIDLBmCVNJ"
      },
      "source": [
        "# Describing the data relatively\n",
        "---\n",
        "This worksheet has a set of exercises for practising using the linregress function.  The function will run a linear regression algorithm (or model) to produce data that can be used for predictions."
      ]
    },
    {
      "cell_type": "markdown",
      "metadata": {
        "id": "DVgw-x5VCVNN"
      },
      "source": [
        "### Exercise 1 - Clean the data \n",
        "---\n",
        "Using the positive psychology dataset - \"https://github.com/lilaceri/Working-with-data-/blob/b157a2feceb7709cf82426932385706d65446270/Data%20Sets%20for%20code%20divisio/Positive_Psychology_2017.csv?raw=true\"\n",
        "* Read the data and display info \n",
        "* Visually check the summary to see which columns have null values\n",
        "* Remove columns with a significant number of null values\n",
        "\n",
        "**Expected Output**\n",
        "```\n",
        "<class 'pandas.core.frame.DataFrame'>\n",
        "RangeIndex: 44 entries, 0 to 43\n",
        "Data columns (total 13 columns):\n",
        " #   Column       Non-Null Count  Dtype  \n",
        "---  ------       --------------  -----  \n",
        " 0   Age          44 non-null     int64  \n",
        " 1   English      44 non-null     object \n",
        " 2   sex          44 non-null     object \n",
        " 3   origin       44 non-null     object \n",
        " 4   Ukresidence  44 non-null     float64\n",
        " 5   MAAS         44 non-null     float64\n",
        " 6   Resilliance  44 non-null     int64  \n",
        " 7   Wellbeing    44 non-null     int64  \n",
        " 8   Stress       44 non-null     int64  \n",
        " 9   selfesteem   44 non-null     int64  \n",
        " 10  LoC          44 non-null     int64  \n",
        " 11  sleep        44 non-null     int64  \n",
        " 12  Year         44 non-null     int64  \n",
        "dtypes: float64(2), int64(8), object(3)\n",
        "memory usage: 4.6+ KB\n",
        "```"
      ]
    },
    {
      "cell_type": "code",
      "metadata": {
        "id": "_U5CsP0ECVNO",
        "colab": {
          "base_uri": "https://localhost:8080/"
        },
        "outputId": "2e4146f5-1f49-4cd0-fb7c-7488e1efd87c"
      },
      "source": [
        "from scipy.stats import linregress\n",
        "from scipy.stats.morestats import Mean\n",
        "import pandas as pd\n",
        "import matplotlib.pyplot as plt\n",
        "import seaborn as sns\n",
        "import numpy as np\n",
        "\n",
        "def positive_psy():\n",
        "  pys_level_df = pd.read_csv(\"https://github.com/lilaceri/Working-with-data-/blob/b157a2feceb7709cf82426932385706d65446270/Data%20Sets%20for%20code%20divisio/Positive_Psychology_2017.csv?raw=true\")\n",
        "  psy_drop = pys_level_df.drop(['firstlanguage'], axis = 1)\n",
        "  psy_drop.info()\n",
        "  \n",
        "positive_psy()"
      ],
      "execution_count": 1,
      "outputs": [
        {
          "output_type": "stream",
          "name": "stdout",
          "text": [
            "<class 'pandas.core.frame.DataFrame'>\n",
            "RangeIndex: 44 entries, 0 to 43\n",
            "Data columns (total 13 columns):\n",
            " #   Column       Non-Null Count  Dtype  \n",
            "---  ------       --------------  -----  \n",
            " 0   Age          44 non-null     int64  \n",
            " 1   English      44 non-null     object \n",
            " 2   sex          44 non-null     object \n",
            " 3   origin       44 non-null     object \n",
            " 4   Ukresidence  44 non-null     float64\n",
            " 5   MAAS         44 non-null     float64\n",
            " 6   Resilliance  44 non-null     int64  \n",
            " 7   Wellbeing    44 non-null     int64  \n",
            " 8   Stress       44 non-null     int64  \n",
            " 9   selfesteem   44 non-null     int64  \n",
            " 10  LoC          44 non-null     int64  \n",
            " 11  sleep        44 non-null     int64  \n",
            " 12  Year         44 non-null     int64  \n",
            "dtypes: float64(2), int64(8), object(3)\n",
            "memory usage: 4.6+ KB\n"
          ]
        }
      ]
    },
    {
      "cell_type": "markdown",
      "metadata": {
        "id": "w5_G1iWYCVNP"
      },
      "source": [
        "### Exercise 2 - Check for outliers \n",
        "---\n",
        "We briefly mentioned outliers in the R and stats presentation. An outlier is an abnormal value in the data that is either extremely high or low compared to the rest of the data. Outliers can skew results. \n",
        "\n",
        "A value is considered to be an outlier if it is any of:\n",
        "*  greater than `Q3 + 1.5 * interquartile_range`\n",
        "*  less than `Q1 - 1.5 * interquartile_range`\n",
        "*  more than 2 standard deviations from the mean\n",
        "\n",
        "Q3 = value at 75% of data, Q1 = value at 25% of the data, IQR is the interquartile range, the difference between Q3 and Q1.  \n",
        "\n",
        "We can check for outliers using a Box plot, in which:\n",
        "\n",
        "*  the upper line on the boxplots arm (whisker) is `Q3 + 1.5 * IQR`\n",
        "*  the lower line on the boxplots arm (whisker) is `Q1 - 1.5 * IQR`\n",
        "*  the middle line of the box is the median\n",
        "*  the top of the box is Q3\n",
        "*  the bottom of the box is Q1\n",
        "*  outliers are shown as circles or dots, either above or below the whiskers\n",
        "\n",
        "1. Using either matplotlib or Seaborn, create a boxplot of `Wellbeing` and a separate boxplot of `selfesteem`\n",
        "2. use `plt.show()` to separate the graphs \n",
        "3. Can you see any outliers? Are they high or low?\n",
        "\n",
        "**Expected Output**\n",
        "\n",
        "https://docs.google.com/presentation/d/e/2PACX-1vQBji5MrvtdeXCtP2PJzhPLKqXXuLMYjy4nCIzXpJLoye38IzetN5amZd6pU9e4io3bTUvE6Slg_hIk/pub?start=false&loop=false&delayms=3000\n"
      ]
    },
    {
      "cell_type": "code",
      "metadata": {
        "id": "sLT4pozqCVNQ",
        "colab": {
          "base_uri": "https://localhost:8080/",
          "height": 513
        },
        "outputId": "c43b1e19-2eeb-42fe-83e8-947cdad880bb"
      },
      "source": [
        "from scipy.stats import linregress\n",
        "from scipy.stats.morestats import Mean\n",
        "import pandas as pd\n",
        "import matplotlib.pyplot as plt\n",
        "import seaborn as sns\n",
        "import numpy as np\n",
        "\n",
        "def check_outliers():\n",
        "  pys_level_df = pd.read_csv(\"https://github.com/lilaceri/Working-with-data-/blob/b157a2feceb7709cf82426932385706d65446270/Data%20Sets%20for%20code%20divisio/Positive_Psychology_2017.csv?raw=true\")\n",
        "  data = pys_level_df['Wellbeing']\n",
        "  labels = data.keys()\n",
        "  plt.boxplot(data, labels=['Wellbeing'])\n",
        "  plt.show()\n",
        "\n",
        "  data = pys_level_df['selfesteem']\n",
        "  labels = data.keys()\n",
        "  plt.boxplot(data, labels=['selfesteem'])\n",
        "  plt.show()\n",
        "\n",
        "check_outliers()"
      ],
      "execution_count": 2,
      "outputs": [
        {
          "output_type": "display_data",
          "data": {
            "text/plain": [
              "<Figure size 432x288 with 1 Axes>"
            ],
            "image/png": "[encoded data removed]"
          },
          "metadata": {
            "needs_background": "light"
          }
        },
        {
          "output_type": "display_data",
          "data": {
            "text/plain": [
              "<Figure size 432x288 with 1 Axes>"
            ],
            "image/png": "[encoded data removed]"
          },
          "metadata": {
            "needs_background": "light"
          }
        }
      ]
    },
    {
      "cell_type": "markdown",
      "metadata": {
        "id": "8VCT8LnOCVNQ"
      },
      "source": [
        "### Exercise 3 - Removing outliers\n",
        "---\n",
        "Create a function called `remove_outliers(df, column)` to remove outliers from a given column in a given dataframe.  Use the function to remove outliers from the `Wellbeing` column.  Then use the function to remove the outliers from the `selfesteem` columns. \n",
        "\n",
        "The function will:\n",
        "\n",
        "1. Store the values for Q1 and Q3 in 2 separate variables   *Hint: you can use `.quantile(0.75)` and `.quantile(0.25)` to get Q3 and Q1 respectively*  \n",
        "2. Calculate the interquartile range(IQR) using `Q3` - `Q1`  \n",
        "3. Create a variable which will store the value for the `upper_limit` (`Q3 + 1.5 * IQR`)  \n",
        "4. Create another variable which assigns the value for the `lower_limit` (`Q1  - 1.5 * IQR`)  \n",
        "5. Filter all rows where values are NOT outliers into a new dataframe called `df_normal`\n",
        "6. Return `df_normal`\n",
        "\n",
        "Run the function twice, once for each column.\n",
        "Show the info for the resulting dataframe\n",
        "\n",
        "**Test output**:  \n",
        "```\n",
        "<class 'pandas.core.frame.DataFrame'>\n",
        "Int64Index: 41 entries, 0 to 43\n",
        "Data columns (total 13 columns):\n",
        " #   Column       Non-Null Count  Dtype  \n",
        "---  ------       --------------  -----  \n",
        " 0   Age          41 non-null     int64  \n",
        " 1   English      41 non-null     object \n",
        " 2   sex          41 non-null     object \n",
        " 3   origin       41 non-null     object \n",
        " 4   Ukresidence  41 non-null     float64\n",
        " 5   MAAS         41 non-null     float64\n",
        " 6   Resilliance  41 non-null     int64  \n",
        " 7   Wellbeing    41 non-null     int64  \n",
        " 8   Stress       41 non-null     int64  \n",
        " 9   selfesteem   41 non-null     int64  \n",
        " 10  LoC          41 non-null     int64  \n",
        " 11  sleep        41 non-null     int64  \n",
        " 12  Year         41 non-null     int64  \n",
        "dtypes: float64(2), int64(8), object(3)\n",
        "memory usage: 4.5+ KB\n",
        "```\n"
      ]
    },
    {
      "cell_type": "code",
      "metadata": {
        "id": "wFvT_TtjCVNR",
        "colab": {
          "base_uri": "https://localhost:8080/"
        },
        "outputId": "7e0f5c68-ece2-4e3f-fc4e-2081bb48ca72"
      },
      "source": [
        "from scipy.stats import linregress\n",
        "from scipy.stats.morestats import Mean\n",
        "import pandas as pd\n",
        "import matplotlib.pyplot as plt\n",
        "import seaborn as sns\n",
        "import numpy as np\n",
        "\n",
        "def remove_outliers(pys_level_df,Wellbeing):\n",
        "  pys_level_df = pd.read_csv(\"https://github.com/lilaceri/Working-with-data-/blob/b157a2feceb7709cf82426932385706d65446270/Data%20Sets%20for%20code%20divisio/Positive_Psychology_2017.csv?raw=true\")\n",
        "  Q1 = pys_level_df.Wellbeing.quantile(0.25)\n",
        "  Q3 = pys_level_df.Wellbeing.quantile(0.75)\n",
        "  IQR_Wellbeing = Q3 - Q1\n",
        "  IQR_Wellbeing = 28.25 - 20.0\n",
        "  print('The Q1 for Wellbeing is',Q1)\n",
        "  print('The Q3 for Wellbeing is',Q3)\n",
        "  print('The IQR for Wellbeing is', IQR_Wellbeing)\n",
        "\n",
        "  Q1 = pys_level_df.selfesteem.quantile(0.25)\n",
        "  Q3 = pys_level_df.selfesteem.quantile(0.75)\n",
        "  IQR_selfesteem = Q3 - Q1\n",
        "  IQR_selfesteem = 22.25 - 17.0\n",
        "  print('The Q1 for selfesteem is',Q1)\n",
        "  print('The Q3 for selfesteem is',Q3)\n",
        "  print('The IQR for selfesteem is', IQR_selfesteem)\n",
        "\n",
        "  lower_limit = Q1 - 1.5*IQR_Wellbeing\n",
        "  upper_limit = Q3 + 1.5*IQR_Wellbeing\n",
        "  print('The lower and upper limit for Wellbeing is ',lower_limit,upper_limit)\n",
        "  \n",
        "  lower_limit = Q1 - 1.5*IQR_selfesteem\n",
        "  upper_limit = Q3 + 1.5*IQR_selfesteem\n",
        "  print('The lower and upper limit for selfesteem is ',lower_limit,upper_limit)\n",
        "\n",
        "\n",
        "  print(pys_level_df[(pys_level_df.Wellbeing<lower_limit)|(pys_level_df.Wellbeing>upper_limit)])\n",
        "  print(pys_level_df[(pys_level_df.selfesteem<lower_limit)|(pys_level_df.selfesteem>upper_limit)])\n",
        "\n",
        "  \n",
        "remove_outliers('pys_level_df','Wellbeing')"
      ],
      "execution_count": 3,
      "outputs": [
        {
          "output_type": "stream",
          "name": "stdout",
          "text": [
            "The Q1 for Wellbeing is 20.0\n",
            "The Q3 for Wellbeing is 28.25\n",
            "The IQR for Wellbeing is 8.25\n",
            "The Q1 for selfesteem is 17.0\n",
            "The Q3 for selfesteem is 22.25\n",
            "The IQR for selfesteem is 5.25\n",
            "The lower and upper limit for Wellbeing is  4.625 34.625\n",
            "The lower and upper limit for selfesteem is  9.125 30.125\n",
            "    Age                                            English firstlanguage  \\\n",
            "12   26                               Your Second Language        German   \n",
            "18   23  First Language (or you are bilingual in it wih...           NaN   \n",
            "21   23  First Language (or you are bilingual in it wit...           NaN   \n",
            "23   23  First Language (or you are bilingual in it wit...           NaN   \n",
            "24   27  First Language (or you are bilingual in it wit...           NaN   \n",
            "29   23  First Language (or you are bilingual in it wit...           NaN   \n",
            "32   22  First Language (or you are bilingual in it wit...           NaN   \n",
            "34   22  First Language (or you are bilingual in it wit...           NaN   \n",
            "37   14  First Language (or you are bilingual in it wit...           NaN   \n",
            "38   40  First Language (or you are bilingual in it wit...           NaN   \n",
            "39   33  First Language (or you are bilingual in it wit...           NaN   \n",
            "\n",
            "       sex          origin  Ukresidence  MAAS  Resilliance  Wellbeing  Stress  \\\n",
            "12    Male          Europe          0.0   2.6           40         36       3   \n",
            "18  Female          The UK         23.0   2.8           29          9      26   \n",
            "21  Female  Outside Europe          3.0   2.9           22          7      31   \n",
            "23  Female          The UK         23.0   3.5           36         31      22   \n",
            "24    Male          The UK         25.0   4.4           45         31       4   \n",
            "29  Female  Outside Europe          8.0   3.6           38         31      11   \n",
            "32  Female  Outside Europe          0.0   5.0           47         38       7   \n",
            "34  Female          Europe          4.0   4.0           28          8      29   \n",
            "37    Male  Outside Europe          6.0   4.2           33         35      13   \n",
            "38  Female          The UK         30.0   3.0           40         32      17   \n",
            "39  Female          The UK         27.0   4.4           47         34       7   \n",
            "\n",
            "    selfesteem  LoC  sleep  Year  \n",
            "12          28    4     26  2017  \n",
            "18          10   27      5  2017  \n",
            "21           7   21     13  2017  \n",
            "23          21    8     27  2017  \n",
            "24          30    4     23  2017  \n",
            "29          23    6     28  2017  \n",
            "32          30   10     30  2017  \n",
            "34           7   16      9  2017  \n",
            "37          24   13     26  2017  \n",
            "38          20    8     25  2017  \n",
            "39          23   11     30  2017  \n",
            "    Age                                            English firstlanguage  \\\n",
            "1    22                               Your Second Language        Arabic   \n",
            "21   23  First Language (or you are bilingual in it wit...           NaN   \n",
            "25   29  First Language (or you are bilingual in it wit...           NaN   \n",
            "34   22  First Language (or you are bilingual in it wit...           NaN   \n",
            "\n",
            "       sex          origin  Ukresidence  MAAS  Resilliance  Wellbeing  Stress  \\\n",
            "1   Female  Outside Europe          0.0   2.6           29         10      37   \n",
            "21  Female  Outside Europe          3.0   2.9           22          7      31   \n",
            "25  Female          The UK         29.0   4.6           31         15      24   \n",
            "34  Female          Europe          4.0   4.0           28          8      29   \n",
            "\n",
            "    selfesteem  LoC  sleep  Year  \n",
            "1            9   16     10  2017  \n",
            "21           7   21     13  2017  \n",
            "25           7   16      6  2017  \n",
            "34           7   16      9  2017  \n"
          ]
        }
      ]
    },
    {
      "cell_type": "markdown",
      "metadata": {
        "id": "wRs6sfE-CVNR"
      },
      "source": [
        "### Exercise 4 - Checking for normality\n",
        "---\n",
        "\n",
        "Linear regressions assume that the data is normally distributed (Gaussian) and therefore has the bell curved shape and a similar mean and median (this would be true if the mean was centred like it is in Gaussian data). \n",
        "\n",
        "1. Use Seaborn's **distplot** to check the shape of the `Wellbeing` and `selfesteem` columns.  Do they look normally distributed (Gaussian)?\n",
        "\n",
        "`sns.distplot(dataframe['column'])`\n",
        "\n",
        "*Hint: if you add, `bins= ...` as a parameter, you can set the number of bins (bars) in your chart*\n",
        "\n",
        "2. Compare the mean and median of `Wellbeing` - are they similar? \n",
        "3. Compare the mean and median of `selfesteem` - are they similar?\n",
        "\n",
        "\n",
        "\n"
      ]
    },
    {
      "cell_type": "code",
      "metadata": {
        "id": "HOxGYfg-CVNS",
        "colab": {
          "base_uri": "https://localhost:8080/",
          "height": 632
        },
        "outputId": "eb1fd363-673d-4f75-ac3a-e6b019f1c76d"
      },
      "source": [
        "from scipy.stats import linregress\n",
        "from scipy.stats.morestats import Mean\n",
        "import pandas as pd\n",
        "import matplotlib.pyplot as plt\n",
        "import seaborn as sns\n",
        "import numpy as np\n",
        "%matplotlib inline\n",
        "\n",
        "def check_normalty():\n",
        "  pys_level_df = pd.read_csv(\"https://github.com/lilaceri/Working-with-data-/blob/b157a2feceb7709cf82426932385706d65446270/Data%20Sets%20for%20code%20divisio/Positive_Psychology_2017.csv?raw=true\")\n",
        "  data = pys_level_df['Wellbeing']\n",
        "  labels = data.keys()\n",
        "  sns.distplot(pys_level_df['Wellbeing'])\n",
        "  plt.show()\n",
        "\n",
        "  data = pys_level_df['selfesteem']\n",
        "  labels = data.keys()\n",
        "  plt.figure()\n",
        "  sns.distplot(pys_level_df['selfesteem'],bins=100)\n",
        "  plt.show()\n",
        "\n",
        "check_normalty()"
      ],
      "execution_count": 4,
      "outputs": [
        {
          "output_type": "stream",
          "name": "stderr",
          "text": [
            "/usr/local/lib/python3.8/dist-packages/seaborn/distributions.py:2619: FutureWarning: `distplot` is a deprecated function and will be removed in a future version. Please adapt your code to use either `displot` (a figure-level function with similar flexibility) or `histplot` (an axes-level function for histograms).\n",
            "  warnings.warn(msg, FutureWarning)\n"
          ]
        },
        {
          "output_type": "display_data",
          "data": {
            "text/plain": [
              "<Figure size 432x288 with 1 Axes>"
            ],
            "image/png": "[encoded data removed]"
          },
          "metadata": {
            "needs_background": "light"
          }
        },
        {
          "output_type": "stream",
          "name": "stderr",
          "text": [
            "/usr/local/lib/python3.8/dist-packages/seaborn/distributions.py:2619: FutureWarning: `distplot` is a deprecated function and will be removed in a future version. Please adapt your code to use either `displot` (a figure-level function with similar flexibility) or `histplot` (an axes-level function for histograms).\n",
            "  warnings.warn(msg, FutureWarning)\n"
          ]
        },
        {
          "output_type": "display_data",
          "data": {
            "text/plain": [
              "<Figure size 432x288 with 1 Axes>"
            ],
            "image/png": "[encoded data removed]"
          },
          "metadata": {
            "needs_background": "light"
          }
        }
      ]
    },
    {
      "cell_type": "markdown",
      "metadata": {
        "id": "9nIUQF5TCVNT"
      },
      "source": [
        "### Exercise 5 - Check which variables are most highly correlated\n",
        "---\n",
        "Using the `dataframe.corr()` function and Seaborn's heatmap, create a correlation heatmap matrix to check which variables are most highly correlated.\n",
        "\n",
        "A correlation matrix finds the correlation coefficient between every variable pair combination in a set of variables.  A correlation heatmap shows the degree of correlation between variables using a colour scale.\n",
        "\n",
        "*The matrix and heatmap will always show the correlation coefficients between each variable and itself, which will have a correlation coefficient of 1.*\n",
        "  \n",
        "Values closest to 1 mean the variables are positively correlated with each other with 1 meaning 100% correlated\n",
        "\n",
        "\n",
        "Values close to -1 mean the variables are negatively correlated with each other with -1 meaning 100% negatively correlated\n",
        "\n",
        "1. create the correlation matrix assigning it to a variable called **correlation_matrix** using the .corr() function and rounding to 2 decimal places:\n",
        "\n",
        "  `correlation_matrix = dataframe.corr().round(2)`\n",
        "\n",
        "*This will create a matrix similar to the linear regression matrix created in the numpy worksheet, but with more than two variables.*\n",
        "\n",
        "2. create a heatmap of the correlation matrix using:\n",
        "\n",
        " `sns.heatmap(data=data_variable, annot=True)`\n",
        "\n",
        "*Hint: Use `annot = True` to print the correlation values inside the square*\n",
        "\n",
        "3. Which variables are the most highly correlated with each other (closest to 1 or -1)?"
      ]
    },
    {
      "cell_type": "code",
      "metadata": {
        "id": "GyYYASZvCVNT",
        "colab": {
          "base_uri": "https://localhost:8080/",
          "height": 1000
        },
        "outputId": "0903ddfd-6064-4a8c-be81-33de8b2bcf6c"
      },
      "source": [
        "from scipy.stats import linregress\n",
        "from scipy.stats.morestats import Mean\n",
        "import pandas as pd\n",
        "import matplotlib.pyplot as plt\n",
        "import seaborn as sns\n",
        "import numpy as np\n",
        "%matplotlib inline\n",
        "\n",
        "def check_correlation():\n",
        "  pys_level_df = pd.read_csv(\"https://github.com/lilaceri/Working-with-data-/blob/b157a2feceb7709cf82426932385706d65446270/Data%20Sets%20for%20code%20divisio/Positive_Psychology_2017.csv?raw=true\")\n",
        "  data = pys_level_df['Wellbeing']\n",
        "  labels = data.keys()\n",
        "  correlation_matrix = pys_level_df.corr().round(2)\n",
        "  sns.distplot(pys_level_df['Wellbeing'])\n",
        "\n",
        "  plt.show()\n",
        "  print(correlation_matrix)\n",
        "\n",
        "  data = pys_level_df['selfesteem']\n",
        "  labels = data.keys()\n",
        "  plt.figure()\n",
        "  sns.distplot(pys_level_df['selfesteem'],bins=100)\n",
        "  plt.show()\n",
        "\n",
        "check_correlation()"
      ],
      "execution_count": 5,
      "outputs": [
        {
          "output_type": "stream",
          "name": "stderr",
          "text": [
            "/usr/local/lib/python3.8/dist-packages/seaborn/distributions.py:2619: FutureWarning: `distplot` is a deprecated function and will be removed in a future version. Please adapt your code to use either `displot` (a figure-level function with similar flexibility) or `histplot` (an axes-level function for histograms).\n",
            "  warnings.warn(msg, FutureWarning)\n"
          ]
        },
        {
          "output_type": "display_data",
          "data": {
            "text/plain": [
              "<Figure size 432x288 with 1 Axes>"
            ],
            "image/png": "[encoded data removed]"
          },
          "metadata": {
            "needs_background": "light"
          }
        },
        {
          "output_type": "stream",
          "name": "stderr",
          "text": [
            "/usr/local/lib/python3.8/dist-packages/seaborn/distributions.py:2619: FutureWarning: `distplot` is a deprecated function and will be removed in a future version. Please adapt your code to use either `displot` (a figure-level function with similar flexibility) or `histplot` (an axes-level function for histograms).\n",
            "  warnings.warn(msg, FutureWarning)\n"
          ]
        },
        {
          "output_type": "stream",
          "name": "stdout",
          "text": [
            "              Age  Ukresidence  MAAS  Resilliance  Wellbeing  Stress  \\\n",
            "Age          1.00         0.16  0.21         0.15       0.11    0.06   \n",
            "Ukresidence  0.16         1.00  0.19         0.12       0.06   -0.17   \n",
            "MAAS         0.21         0.19  1.00         0.42       0.18   -0.26   \n",
            "Resilliance  0.15         0.12  0.42         1.00       0.60   -0.59   \n",
            "Wellbeing    0.11         0.06  0.18         0.60       1.00   -0.67   \n",
            "Stress       0.06        -0.17 -0.26        -0.59      -0.67    1.00   \n",
            "selfesteem   0.04        -0.10  0.22         0.59       0.78   -0.67   \n",
            "LoC          0.21        -0.08 -0.33        -0.51      -0.45    0.42   \n",
            "sleep       -0.04         0.16  0.38         0.43       0.58   -0.46   \n",
            "Year          NaN          NaN   NaN          NaN        NaN     NaN   \n",
            "\n",
            "             selfesteem   LoC  sleep  Year  \n",
            "Age                0.04  0.21  -0.04   NaN  \n",
            "Ukresidence       -0.10 -0.08   0.16   NaN  \n",
            "MAAS               0.22 -0.33   0.38   NaN  \n",
            "Resilliance        0.59 -0.51   0.43   NaN  \n",
            "Wellbeing          0.78 -0.45   0.58   NaN  \n",
            "Stress            -0.67  0.42  -0.46   NaN  \n",
            "selfesteem         1.00 -0.55   0.53   NaN  \n",
            "LoC               -0.55  1.00  -0.42   NaN  \n",
            "sleep              0.53 -0.42   1.00   NaN  \n",
            "Year                NaN   NaN    NaN   NaN  \n"
          ]
        },
        {
          "output_type": "display_data",
          "data": {
            "text/plain": [
              "<Figure size 432x288 with 1 Axes>"
            ],
            "image/png": "[encoded data removed]"
          },
          "metadata": {
            "needs_background": "light"
          }
        }
      ]
    },
    {
      "cell_type": "markdown",
      "metadata": {
        "id": "jZgZHqbHCVNU"
      },
      "source": [
        "### Exercise 6 - Linear regression \n",
        "---\n",
        "Using the `linregress` function, perform a linear regression on the Wellbeing and selfesteem columns   \n",
        "To do this:\n",
        "\n",
        "1. `from scipy.stats import linregress`\n",
        "2. create a variable 'x' which stores the Wellbeing column\n",
        "3. create a variable 'y' which stores the selfesteem column\n",
        "4. create a variable called regression and assign the result of running the linregress function with x, y as its parameters ( linregress(x,y) )\n",
        "5. display the regression\n",
        "6. display the slope (regression.slope)\n",
        "7. display the y-intercept\n",
        "8. display the r^2 value (rvalue**2)\n",
        "9. display the pvalue \n"
      ]
    },
    {
      "cell_type": "code",
      "metadata": {
        "id": "5SpVEyHZCVNU",
        "colab": {
          "base_uri": "https://localhost:8080/",
          "height": 351
        },
        "outputId": "296d5324-2a34-4bfc-d98c-2be3fb110ffa"
      },
      "source": [
        "from scipy.stats import linregress\n",
        "from scipy.stats.morestats import Mean\n",
        "import pandas as pd\n",
        "import matplotlib.pyplot as plt\n",
        "import seaborn as sns\n",
        "\n",
        "def wellbeing_selfesteem():\n",
        "  pysch_data =pd.read_csv(\"https://github.com/lilaceri/Working-with-data-/blob/b157a2feceb7709cf82426932385706d65446270/Data%20Sets%20for%20code%20divisio/Positive_Psychology_2017.csv?raw=true\")\n",
        "  x = pysch_data['Wellbeing']\n",
        "  y = pysch_data['selfesteem']\n",
        "  regression = linregress(x,y)\n",
        "  slope = regression.slope\n",
        "  intercept = regression.intercept\n",
        "  chart=sns.scatterplot(x=x,y=y)\n",
        "  chart=sns.regplot(x=x, y=y)\n",
        "  plt.xlabel('Wellbeing') and plt.ylabel('selfesteem')\n",
        "  print(slope)\n",
        "  print(intercept)\n",
        "  print(regression)\n",
        "\n",
        "\n",
        "wellbeing_selfesteem()"
      ],
      "execution_count": 6,
      "outputs": [
        {
          "output_type": "stream",
          "name": "stdout",
          "text": [
            "0.5813493777048488\n",
            "5.004279778526259\n",
            "LinregressResult(slope=0.5813493777048488, intercept=5.004279778526259, rvalue=0.7796119998459331, pvalue=4.5026632927404693e-10, stderr=0.07205940740749374, intercept_stderr=1.8162622661196786)\n"
          ]
        },
        {
          "output_type": "display_data",
          "data": {
            "text/plain": [
              "<Figure size 432x288 with 1 Axes>"
            ],
            "image/png": "[encoded data removed]"
          },
          "metadata": {
            "needs_background": "light"
          }
        }
      ]
    },
    {
      "cell_type": "markdown",
      "metadata": {
        "id": "ordhi_WUCVNU"
      },
      "source": [
        "### Exercise 7 - understanding the output \n",
        "---\n",
        "The r^2 value (rvalue**2) helps us understand how much our independent variable (x) is predicting our dependent variable (y). The closer to 1 the rvalue is the more  the change in Y is explained by X. So an rvalue of 0.7 means that 70% of Y's variance can be explained by X. \n",
        "\n",
        "Our pvalue shows how significant our model is, if the pvalue is < 0.05 then the model is significant. \n",
        "\n",
        "On this basis, write below the findings of the above regression.\n",
        "* is the model significant?\n",
        "* how much is the change in y explained by x? "
      ]
    },
    {
      "cell_type": "markdown",
      "metadata": {
        "id": "wVCxB73eCVNV"
      },
      "source": [
        "**Write about the findings here**: Yes, the above model is significant because it has a pvalue of approximately 4.50. \n",
        "A greater change in Wellbeing will significantly affects Self esteem because the model has generated an rvalue of about 0.8."
      ]
    },
    {
      "cell_type": "markdown",
      "metadata": {
        "id": "z7TcYPrOCVNV"
      },
      "source": [
        "### Exercise 8 - Linear regression with other variables \n",
        "---\n",
        "\n",
        "Referring back to the correlation heatmap..  \n",
        "*  Repeat Exercise 6 but with the variables that were the most highly correlated according to the heatmap.   \n",
        "* write a comment comparing the results of this regression with the one you created in exercise 6"
      ]
    },
    {
      "cell_type": "code",
      "metadata": {
        "id": "WHJi2r8zCVNV",
        "colab": {
          "base_uri": "https://localhost:8080/",
          "height": 355
        },
        "outputId": "93fdc710-c8f4-4b3d-f26d-59f65b8097f2"
      },
      "source": [
        "from scipy.stats import linregress\n",
        "from scipy.stats.morestats import Mean\n",
        "import pandas as pd\n",
        "import matplotlib.pyplot as plt\n",
        "import seaborn as sns\n",
        "\n",
        "def wellbeing_stress():\n",
        "  pysch_data =pd.read_csv(\"https://github.com/lilaceri/Working-with-data-/blob/b157a2feceb7709cf82426932385706d65446270/Data%20Sets%20for%20code%20divisio/Positive_Psychology_2017.csv?raw=true\")\n",
        "  x = pysch_data['Wellbeing']\n",
        "  y = pysch_data['Stress']\n",
        "  regression = linregress(x,y)\n",
        "  slope = regression.slope\n",
        "  intercept = regression.intercept\n",
        "  chart=sns.scatterplot(x=x,y=y)\n",
        "  chart=sns.regplot(x=x, y=y)\n",
        "  plt.xlabel('Wellbeing') and plt.ylabel('Stress')\n",
        "  print(slope)\n",
        "  print(intercept)\n",
        "  print(regression)\n",
        "\n",
        "wellbeing_stress()"
      ],
      "execution_count": 7,
      "outputs": [
        {
          "output_type": "stream",
          "name": "stdout",
          "text": [
            "-0.7178992620740611\n",
            "38.9702526604677\n",
            "LinregressResult(slope=-0.7178992620740611, intercept=38.9702526604677, rvalue=-0.6713959740851134, pvalue=6.084540561441803e-07, stderr=0.1222745983201931, intercept_stderr=3.0819395693616563)\n"
          ]
        },
        {
          "output_type": "display_data",
          "data": {
            "text/plain": [
              "<Figure size 432x288 with 1 Axes>"
            ],
            "image/png": "[encoded data removed]"
          },
          "metadata": {
            "needs_background": "light"
          }
        }
      ]
    },
    {
      "cell_type": "markdown",
      "metadata": {
        "id": "SaFhxdjEzKNL"
      },
      "source": [
        "**Comment here**: Yes, the above model is significant because it has a pvalue of approximately 6.0. A greater change in Wellbeing will not bring about a change in stress level because the model has generated an rvalue of about -0.67."
      ]
    },
    {
      "cell_type": "markdown",
      "metadata": {
        "id": "dvvgY68hCVNW"
      },
      "source": [
        "### Exercise 9 - Plotting a line of best fit \n",
        "---\n",
        "To create a line of best fit we use y = slope\\*x + intercept. \n",
        "\n",
        "Using matplotlib (dont forget to import it):\n",
        "\n",
        "* create a scatter graph between Wellbeing and selfesteem \n",
        "* plot a line of best fit using the results in exercise 6  (y = slope * x + intercept)  "
      ]
    },
    {
      "cell_type": "code",
      "metadata": {
        "id": "KVT8QqYCCVNW"
      },
      "source": [],
      "execution_count": null,
      "outputs": []
    },
    {
      "cell_type": "markdown",
      "metadata": {
        "id": "-KcUIkXHCVNW"
      },
      "source": [
        "### Exercise 10 - using Seaborn to plot a regression line \n",
        "---\n",
        "\n",
        "Use Seaborn's `regplot` function to create a scatter graph with line of best fit of the variables you used in Exercise 8.\n",
        "\n",
        "* Compare the 'Wellbeing' and 'selfesteem' graph to the graph you created in Exercise 9"
      ]
    },
    {
      "cell_type": "code",
      "metadata": {
        "id": "-xVsVD4GCVNX"
      },
      "source": [],
      "execution_count": null,
      "outputs": []
    }
  ]
}